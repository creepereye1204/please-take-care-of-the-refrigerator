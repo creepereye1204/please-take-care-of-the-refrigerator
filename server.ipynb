{
 "cells": [
  {
   "cell_type": "code",
   "execution_count": 226,
   "id": "62800509-ebfc-4977-a86c-91306065782c",
   "metadata": {
    "ExecuteTime": {
     "end_time": "2024-06-07T06:07:28.599506Z",
     "start_time": "2024-06-07T06:07:28.593081Z"
    }
   },
   "outputs": [],
   "source": [
    "class UnstructuredDb():\n",
    "    _instance = None\n",
    "\n",
    " \n",
    "    def __new__(cls, *args, **kwargs):\n",
    "        if not cls._instance:\n",
    "            cls._instance = super(UnstructuredDb, cls).__new__(cls, *args, **kwargs)\n",
    "        return cls._instance\n",
    "    \n",
    "    def __init__(self,path:str=\"embedded-database/\",table:str='ingredients'):\n",
    "        import chromadb\n",
    "        import os\n",
    "        from chromadb.db.base import UniqueConstraintError\n",
    "        from chromadb.utils import embedding_functions\n",
    "        \n",
    "        if not os.path.exists(path):\n",
    "            os.makedirs(path, exist_ok=True)\n",
    "            print(f\"Directory '{path}' created successfully.\")\n",
    "\n",
    "         \n",
    "        \n",
    "        client = chromadb.PersistentClient(path=path)\n",
    "        em = embedding_functions.SentenceTransformerEmbeddingFunction(model_name=\"Huffon/sentence-klue-roberta-base\")\n",
    "        try:\n",
    "            self.collection = client.create_collection(name=table, embedding_function=em)\n",
    "        except UniqueConstraintError: \n",
    "            self.collection = client.get_collection(name=table, embedding_function=em)\n",
    "            \n",
    "    def get(self,text:str,n:int=2)->[str]:\n",
    "        \n",
    "\n",
    "        results=self.collection.query(query_texts=[text],n_results=n)\n",
    "        urls=[id for id in results['ids'][0]]\n",
    "\n",
    "        return urls\n",
    "        \n",
    "  \n",
    "\n",
    "    def add(self,key:str=None,ingredient:str=None,metadata:dict=None):\n",
    "        \n",
    "        self.collection.add(\n",
    "        documents=[ingredient],\n",
    "        metadatas=[metadata],\n",
    "        ids=[key]\n",
    "        )\n"
   ]
  },
  {
   "cell_type": "code",
   "execution_count": 227,
   "id": "bf05574e-deb9-469f-bcad-841587eb528f",
   "metadata": {
    "ExecuteTime": {
     "end_time": "2024-06-07T06:07:28.649719Z",
     "start_time": "2024-06-07T06:07:28.645514Z"
    }
   },
   "outputs": [],
   "source": [
    "import pickle\n",
    "\n",
    "class RecipeDict:\n",
    "    _instance = None\n",
    "    _is_loaded = False\n",
    "\n",
    "    def __new__(cls):\n",
    "        if cls._instance is None:\n",
    "            cls._instance = super(RecipeDict, cls).__new__(cls)\n",
    "        return cls._instance\n",
    "\n",
    "    def load_data(self, file_path):\n",
    "        if not self._is_loaded:\n",
    "            with open(file_path, 'rb') as file:\n",
    "                self.data = pickle.load(file)\n",
    "            self._is_loaded = True\n",
    "        return self.data"
   ]
  },
  {
   "cell_type": "code",
   "execution_count": 228,
   "id": "8a64135a-975d-4f2f-aa46-ff37e1720c6d",
   "metadata": {
    "ExecuteTime": {
     "end_time": "2024-06-07T06:07:30.127754Z",
     "start_time": "2024-06-07T06:07:28.769728Z"
    }
   },
   "outputs": [],
   "source": [
    "unstructured_db=UnstructuredDb()\n",
    "singleton_loader = RecipeDict()\n",
    "recipe_dict = singleton_loader.load_data('recipes.pkl')"
   ]
  },
  {
   "cell_type": "code",
   "execution_count": 229,
   "id": "4038d2bf3c830d46",
   "metadata": {
    "collapsed": false,
    "ExecuteTime": {
     "end_time": "2024-06-07T06:07:30.132296Z",
     "start_time": "2024-06-07T06:07:30.128766Z"
    }
   },
   "outputs": [],
   "source": [
    "from flask import Flask, jsonify,send_from_directory,request,session,make_response\n",
    "from flask_sqlalchemy import SQLAlchemy\n",
    "from datetime import datetime\n",
    "from sqlalchemy import func\n",
    "import os\n",
    "from dotenv import load_dotenv"
   ]
  },
  {
   "cell_type": "code",
   "outputs": [],
   "source": [
    "\n",
    "load_dotenv()\n",
    "dist_path=os.getenv(\"DIST_PATH\")"
   ],
   "metadata": {
    "collapsed": false,
    "ExecuteTime": {
     "end_time": "2024-06-07T06:07:30.140830Z",
     "start_time": "2024-06-07T06:07:30.133306Z"
    }
   },
   "id": "220b3b51c75bd430",
   "execution_count": 230
  },
  {
   "cell_type": "code",
   "outputs": [],
   "source": [
    "app = Flask(__name__, static_folder=dist_path, static_url_path='')\n",
    "app.config[\"SECRET_KEY\"] = \"apple\"\n",
    "app.config['SQLALCHEMY_DATABASE_URI'] = 'sqlite:///database.db'\n",
    "db = SQLAlchemy(app)"
   ],
   "metadata": {
    "collapsed": false,
    "ExecuteTime": {
     "end_time": "2024-06-07T06:07:30.148346Z",
     "start_time": "2024-06-07T06:07:30.141841Z"
    }
   },
   "id": "d302ab230779f39e",
   "execution_count": 231
  },
  {
   "cell_type": "code",
   "execution_count": 232,
   "id": "5bda1a27-d3a0-40ad-bb5a-fea7606652da",
   "metadata": {
    "ExecuteTime": {
     "end_time": "2024-06-07T06:07:30.154656Z",
     "start_time": "2024-06-07T06:07:30.149354Z"
    }
   },
   "outputs": [],
   "source": [
    "@app.route('/')\n",
    "def index():\n",
    "    return send_from_directory(dist_path, 'index.html')"
   ]
  },
  {
   "cell_type": "code",
   "execution_count": 233,
   "id": "69711c4d-a5cb-4f5f-bb28-ee0b111cc993",
   "metadata": {
    "ExecuteTime": {
     "end_time": "2024-06-07T06:07:30.253185Z",
     "start_time": "2024-06-07T06:07:30.155664Z"
    }
   },
   "outputs": [],
   "source": [
    "@app.route('/assets/<path:path>')\n",
    "def serve_assets(path):\n",
    "    os_name = os.name\n",
    "    if os_name == 'nt': # 서버가 윈도우 일경우\n",
    "        print(\"Current OS: Windows\")\n",
    "        if path.endswith('.js'):\n",
    "            response = make_response(send_from_directory(os.path.join(dist_path, 'assets'), path))\n",
    "            response.headers.set('Content-Type', 'application/javascript')\n",
    "        elif path.endswith('.css'):\n",
    "            response = make_response(send_from_directory(os.path.join(dist_path, 'assets'), path))\n",
    "            response.headers.set('Content-Type', 'text/css')\n",
    "        else:\n",
    "            response = send_from_directory(os.path.join(dist_path, 'assets'), path)\n",
    "        return response\n",
    "    \n",
    "    return send_from_directory(os.path.join(dist_path, 'assets'), path)"
   ]
  },
  {
   "cell_type": "code",
   "execution_count": 234,
   "id": "a491f753-2f42-46da-8249-8cf2542b0b12",
   "metadata": {
    "ExecuteTime": {
     "end_time": "2024-06-07T06:07:30.260785Z",
     "start_time": "2024-06-07T06:07:30.254196Z"
    }
   },
   "outputs": [],
   "source": [
    "class User(db.Model):\n",
    "    id = db.Column(db.String, primary_key=True)\n",
    "    nickname = db.Column(db.String, primary_key=True, unique=True, nullable=False)\n",
    "    password = db.Column(db.String, nullable=False)"
   ]
  },
  {
   "cell_type": "code",
   "execution_count": 235,
   "id": "07637228-6199-4ddf-bea2-83eb8c54c257",
   "metadata": {
    "ExecuteTime": {
     "end_time": "2024-06-07T06:07:30.268902Z",
     "start_time": "2024-06-07T06:07:30.261796Z"
    }
   },
   "outputs": [],
   "source": [
    "class Refrigerator(db.Model):\n",
    "    id = db.Column(db.Integer, primary_key=True, autoincrement=True, nullable=False)\n",
    "    nickname = db.Column(db.String, nullable=False)\n",
    "    ingredient = db.Column(db.String, nullable=False)\n",
    "    store_method = db.Column(db.Boolean)\n",
    "    count = db.Column(db.Integer)\n",
    "    expire_date = db.Column(db.Date)\n"
   ]
  },
  {
   "cell_type": "code",
   "execution_count": 236,
   "id": "7aac26b0127c78e4",
   "metadata": {
    "collapsed": false,
    "ExecuteTime": {
     "end_time": "2024-06-07T06:07:30.278141Z",
     "start_time": "2024-06-07T06:07:30.269910Z"
    }
   },
   "outputs": [],
   "source": [
    "class Post(db.Model):\n",
    "    id = db.Column(db.Integer, primary_key=True)\n",
    "    title = db.Column(db.String(100), nullable=False)\n",
    "    contents = db.Column(db.String(50), nullable=False)\n",
    "    nickname = db.Column(db.String(50), nullable=False)\n",
    "    image = db.Column(db.String(200), nullable=True)\n",
    "    created_at = db.Column(db.DateTime, default=datetime.utcnow)\n",
    "\n",
    "    def to_dict(self):\n",
    "        return {\n",
    "            'id': self.id,\n",
    "            'title': self.title,\n",
    "            'contents': self.contents,\n",
    "            'nickname': self.nickname,\n",
    "            'image': self.image,\n",
    "            'created_at': self.created_at.isoformat()\n",
    "        }\n"
   ]
  },
  {
   "cell_type": "code",
   "execution_count": 237,
   "id": "9425129b-f008-4389-923c-4d47d1860ecb",
   "metadata": {
    "ExecuteTime": {
     "end_time": "2024-06-07T06:07:30.286167Z",
     "start_time": "2024-06-07T06:07:30.280150Z"
    }
   },
   "outputs": [],
   "source": [
    "@app.route('/signup', methods=['POST'])\n",
    "def signup():\n",
    "    data = request.get_json()\n",
    "    id = data['id']\n",
    "    nickname = data['nickname']\n",
    "    password = data['password']\n",
    "    \n",
    "    # ID와 닉네임의 사용 가능 여부를 확인합니다.\n",
    "    available_id = User.query.filter_by(id=id).first()\n",
    "    available_nickname = User.query.filter_by(nickname=nickname).first()\n",
    "    \n",
    "    if available_id:\n",
    "        return \"이미 존재하는 아이디 입니다!\",400\n",
    "    elif available_nickname:\n",
    "        return \"이미 존재하는 이름 입니다!\",400\n",
    "    \n",
    "    # 새로운 사용자 생성 및 데이터베이스에 추가\n",
    "    new_user = User(id=id, nickname=nickname, password=password)\n",
    "    db.session.add(new_user)\n",
    "    db.session.commit()\n",
    "    session['user']=id\n",
    "    session.modified = True\n",
    "    return \"회원가입 성공!\",200\n",
    "\n",
    "\n"
   ]
  },
  {
   "cell_type": "code",
   "execution_count": 238,
   "id": "0149e8ca-425c-4592-82ee-4f4c324e7d3c",
   "metadata": {
    "ExecuteTime": {
     "end_time": "2024-06-07T06:07:30.294670Z",
     "start_time": "2024-06-07T06:07:30.287177Z"
    }
   },
   "outputs": [],
   "source": [
    "@app.route('/login',methods=['POST'] )  \n",
    "def login():\n",
    "    data = request.get_json()\n",
    "    id = data['id']\n",
    "    password = data['password']\n",
    "    user_info = User.query.filter_by(id=id).filter_by(password=password).first()\n",
    "    if user_info:\n",
    "        session['user']=user_info.id\n",
    "        print(session['user'])\n",
    "        print(session.items())\n",
    "        return \"로그인 성공!\",200\n",
    "    return \"회원정보가 일치하지 않습니다!\",200"
   ]
  },
  {
   "cell_type": "code",
   "execution_count": 239,
   "id": "c83af63f-4a26-4fa2-a55a-0f066988294a",
   "metadata": {
    "ExecuteTime": {
     "end_time": "2024-06-07T06:07:30.302235Z",
     "start_time": "2024-06-07T06:07:30.295680Z"
    }
   },
   "outputs": [],
   "source": [
    "@app.route('/myinfo',methods=['GET'] )  \n",
    "def myinfo():\n",
    "    print(session['user'])\n",
    "    if 'user' in session:\n",
    "        \n",
    "        return session['user'], 200\n",
    "    return \"로그인 해주세요!\",200"
   ]
  },
  {
   "cell_type": "code",
   "execution_count": 240,
   "id": "f3226c5e-fbde-48f2-8df7-6fcdfa28cc1d",
   "metadata": {
    "ExecuteTime": {
     "end_time": "2024-06-07T06:07:30.310567Z",
     "start_time": "2024-06-07T06:07:30.303243Z"
    }
   },
   "outputs": [],
   "source": [
    "@app.route('/logout',methods=['GET'] )  \n",
    "def logout():\n",
    "    if 'user' in session:\n",
    "        session.pop('user', None)\n",
    "        session.modified = True\n",
    "        return \"로그아웃 되었습니다!\",200\n",
    "    return \"로그인 해주세요!\",400"
   ]
  },
  {
   "cell_type": "code",
   "execution_count": 241,
   "id": "f990957d-81c8-446e-8f6d-0a34efeebf3c",
   "metadata": {
    "ExecuteTime": {
     "end_time": "2024-06-07T06:07:30.318426Z",
     "start_time": "2024-06-07T06:07:30.311575Z"
    }
   },
   "outputs": [],
   "source": [
    "@app.route('/add',methods=['POST'] )  \n",
    "def add():\n",
    "    datas = request.get_json()\n",
    "    print(datas)\n",
    "    if 'user' in session:\n",
    "\n",
    "        \n",
    "        for data in datas:\n",
    "            ingredient = data['ingredient']\n",
    "            count =data['ingredientCount']\n",
    "            store_method = data['storeMethod']\n",
    "            expire_date = data['expireDate']\n",
    "            expire_date = datetime.strptime(expire_date, \"%Y-%m-%d\").date()\n",
    "            new_ingredient = Refrigerator(\n",
    "                ingredient=ingredient,\n",
    "                count=count,\n",
    "                store_method=store_method,\n",
    "                expire_date=expire_date,\n",
    "                nickname=session['user']\n",
    "            )\n",
    "            db.session.add(new_ingredient)\n",
    "        db.session.commit()\n",
    "\n",
    "    \n",
    "        \n",
    "        return \"성공!\",200\n",
    "    return \"로그인해주세요!\",400"
   ]
  },
  {
   "cell_type": "code",
   "execution_count": 242,
   "id": "de344a2d-efbb-4a91-9834-ba4f752b855e",
   "metadata": {
    "ExecuteTime": {
     "end_time": "2024-06-07T06:07:30.326270Z",
     "start_time": "2024-06-07T06:07:30.319433Z"
    }
   },
   "outputs": [],
   "source": [
    "@app.route('/get', methods=['GET'])\n",
    "def get():\n",
    "    print(session['user'])\n",
    "    if 'user' in session:\n",
    "        ingredients = Refrigerator.query.filter_by(nickname=session['user']).all()\n",
    "        \n",
    "        # 데이터를 JSON 형식으로 변환하기 위해 각 항목을 사전(dict) 형태로 변환\n",
    "        ingredients_list = []\n",
    "        for ingredient in ingredients:\n",
    "            ingredient_dict = {\n",
    "                'ingredient':ingredient.ingredient,\n",
    "                'count':ingredient.count,\n",
    "                'storeMethod':ingredient.store_method,\n",
    "                'expireDate':ingredient.expire_date,\n",
    "                'id':ingredient.id\n",
    "            }\n",
    "            ingredients_list.append(ingredient_dict)\n",
    "            \n",
    "        objs = db.session.query(Refrigerator).filter_by(id=session['user']).all()\n",
    "        ingredients = ', '.join([obj.ingredient for obj in objs])\n",
    "        print(ingredients)\n",
    "        # JSON 형식으로 클라이언트에게 응답\n",
    "        return jsonify(ingredients_list), 200\n",
    "    \n",
    "    # 로그인하지 않은 경우 메시지 반환\n",
    "    return jsonify({'message': '로그인해주세요!'}), 200"
   ]
  },
  {
   "cell_type": "code",
   "execution_count": 243,
   "id": "8e0d84cc-c3d6-44ba-b3f7-fa685b1c7398",
   "metadata": {
    "ExecuteTime": {
     "end_time": "2024-06-07T06:07:30.333514Z",
     "start_time": "2024-06-07T06:07:30.327281Z"
    }
   },
   "outputs": [],
   "source": [
    "@app.route('/delete', methods=['GET'])\n",
    "def delete():\n",
    "    if 'user' in session:\n",
    "        id = request.args.get('id')  # GET 요청의 경우 request.args 사용\n",
    "        obj = db.session.query(Refrigerator).filter_by(id=id).first()\n",
    "        if obj:\n",
    "            db.session.delete(obj)\n",
    "            db.session.commit()\n",
    "            return \"success\"\n",
    "        else:\n",
    "            return \"failed\"\n",
    "\n",
    "    return \"failed\"\n"
   ]
  },
  {
   "cell_type": "code",
   "execution_count": 244,
   "id": "3a663ec1a819b932",
   "metadata": {
    "collapsed": false,
    "ExecuteTime": {
     "end_time": "2024-06-07T06:07:30.341594Z",
     "start_time": "2024-06-07T06:07:30.334524Z"
    }
   },
   "outputs": [],
   "source": [
    "from datetime import datetime, date\n",
    "\n",
    "@app.route('/modify', methods=['POST'])\n",
    "def modify():\n",
    "    if 'user' in session:\n",
    "        datas = request.get_json()  # POST 요청의 경우 request.get_json() 사용\n",
    "        objs = db.session.query(Refrigerator).filter_by(nickname=session['user']).all()\n",
    "        for obj in objs:\n",
    "            db.session.delete(obj)\n",
    "        for data in datas:\n",
    "            expire_date_str = data['expire_date']\n",
    "            expire_date = datetime.strptime(expire_date_str, '%Y-%m-%d').date()\n",
    "            \n",
    "            new_data = Refrigerator(\n",
    "                nickname=session['user'],\n",
    "                ingredient=data['ingredient'],\n",
    "                store_method=data['store_method'],\n",
    "                count=data['count'],\n",
    "                expire_date=expire_date\n",
    "            )\n",
    "            db.session.add(new_data)\n",
    "        db.session.commit()\n",
    "        \n",
    "        return \"success\"\n",
    "    return \"failed\"\n"
   ]
  },
  {
   "cell_type": "code",
   "execution_count": 245,
   "id": "9ab862c68c16f3c4",
   "metadata": {
    "collapsed": false,
    "ExecuteTime": {
     "end_time": "2024-06-07T06:07:30.349249Z",
     "start_time": "2024-06-07T06:07:30.341594Z"
    }
   },
   "outputs": [],
   "source": [
    "@app.route('/search/<int:n>', methods=['GET'])  \n",
    "\n",
    "def search(n):\n",
    "    if 'user' in session:\n",
    "        objs = db.session.query(Refrigerator).filter_by(nickname=session['user']).all()\n",
    "        ingredients = ', '.join([obj.ingredient for obj in objs])\n",
    "        print(ingredients)\n",
    "        recipes=unstructured_db.get(text=ingredients,n=n)\n",
    "        results=[]\n",
    "        for recipe_id in recipes:\n",
    "            results.append(recipe_dict[recipe_id])\n",
    "        \n",
    "        return jsonify(results), 200\n",
    "    return \"failed\",200"
   ]
  },
  {
   "cell_type": "code",
   "execution_count": 246,
   "id": "2ed094b5bfa0bfe2",
   "metadata": {
    "collapsed": false,
    "ExecuteTime": {
     "end_time": "2024-06-07T06:07:30.357149Z",
     "start_time": "2024-06-07T06:07:30.350258Z"
    }
   },
   "outputs": [],
   "source": [
    "@app.route('/post/<int:post_id>', methods=['GET'])\n",
    "def get_post(post_id):\n",
    "    post = Post.query.get(post_id)\n",
    "    is_author=False\n",
    "    if 'user' in session and session['user'] == post.nickname:\n",
    "        is_author=True\n",
    "        \n",
    "    return jsonify({\n",
    "        'id': post.id,\n",
    "        'title': post.title,\n",
    "        'contents': post.contents,\n",
    "        'image': post.image,\n",
    "        'created_at': post.created_at,\n",
    "        'isAuthor': is_author\n",
    "    })"
   ]
  },
  {
   "cell_type": "code",
   "execution_count": 247,
   "id": "b3ad02514123555d",
   "metadata": {
    "collapsed": false,
    "ExecuteTime": {
     "end_time": "2024-06-07T06:07:30.365041Z",
     "start_time": "2024-06-07T06:07:30.358159Z"
    }
   },
   "outputs": [],
   "source": [
    "@app.route('/post/modify/<int:postNumber>', methods=['GET'])\n",
    "def update_post(post_id):\n",
    "    post = Post.query.get(post_id)\n",
    "    if post:\n",
    "        post.title = request.form['title']\n",
    "        post.content = request.form['contents']\n",
    "        image = request.files.get('image')\n",
    "        if image:\n",
    "            image_filename = image.filename\n",
    "            image.save(os.path.join('static', image_filename))\n",
    "            post.image = image_filename\n",
    "        db.session.commit()\n",
    "        return jsonify({'message': 'Post updated successfully'})\n",
    "    else:\n",
    "        return jsonify({'error': 'Post not found'}), 404"
   ]
  },
  {
   "cell_type": "code",
   "execution_count": 248,
   "id": "fe7ff6b31475a15b",
   "metadata": {
    "collapsed": false,
    "ExecuteTime": {
     "end_time": "2024-06-07T06:07:30.372896Z",
     "start_time": "2024-06-07T06:07:30.366050Z"
    }
   },
   "outputs": [],
   "source": [
    "@app.route('/post/add', methods=['POST'])\n",
    "def add_post():\n",
    "    \n",
    "    title = request.form['title']\n",
    "    contents = request.form['contents']\n",
    "    nickname = session['user']  # 로그인된 사용자의 닉네임\n",
    "    image = request.files.get('image')\n",
    "    if image:\n",
    "        image_filename = image.filename\n",
    "        image.save(f'static/{image_filename}')\n",
    "    else:\n",
    "        image_filename = None\n",
    "\n",
    "    new_post = Post(title=title, contents=contents, nickname=nickname, image=image_filename)\n",
    "    db.session.add(new_post)\n",
    "    db.session.commit()\n",
    "    return jsonify({'message': 'Post created successfully'})"
   ]
  },
  {
   "cell_type": "code",
   "execution_count": 249,
   "id": "b7934ea39a1b6361",
   "metadata": {
    "collapsed": false,
    "ExecuteTime": {
     "end_time": "2024-06-07T06:07:30.380587Z",
     "start_time": "2024-06-07T06:07:30.373908Z"
    }
   },
   "outputs": [],
   "source": [
    "@app.route('/post/list/<int:pageNumber>', methods=['GET'])\n",
    "def get_post_list(pageNumber):\n",
    "    \n",
    "    items_per_page = 10\n",
    "    offset = (pageNumber - 1) * items_per_page\n",
    "\n",
    "    total_posts = db.session.query(func.count(Post.id)).scalar()\n",
    "    total_pages = (total_posts + items_per_page - 1) // items_per_page\n",
    "\n",
    "    paginated_posts = Post.query.order_by(Post.created_at.desc()).offset(offset).limit(items_per_page).all()\n",
    "\n",
    "    return jsonify({\n",
    "        'data': [post.to_dict() for post in paginated_posts],\n",
    "        'totalPages': total_pages\n",
    "    })\n",
    "\n"
   ]
  },
  {
   "cell_type": "code",
   "outputs": [
    {
     "name": "stdout",
     "output_type": "stream",
     "text": [
      " * Serving Flask app '__main__'\n",
      " * Debug mode: off\n"
     ]
    },
    {
     "name": "stderr",
     "output_type": "stream",
     "text": [
      "WARNING: This is a development server. Do not use it in a production deployment. Use a production WSGI server instead.\n",
      " * Running on all addresses (0.0.0.0)\n",
      " * Running on http://127.0.0.1:5000\n",
      " * Running on http://192.168.219.105:5000\n",
      "Press CTRL+C to quit\n",
      "192.168.219.105 - - [07/Jun/2024 15:07:36] \"GET /MyFridge HTTP/1.1\" 404 -\n",
      "192.168.219.105 - - [07/Jun/2024 15:07:38] \"GET / HTTP/1.1\" 200 -\n",
      "192.168.219.105 - - [07/Jun/2024 15:07:38] \"GET /assets/index-Bt0K8fQk.js HTTP/1.1\" 200 -\n",
      "192.168.219.105 - - [07/Jun/2024 15:07:38] \"GET /assets/index-Bd4sYCu-.css HTTP/1.1\" 200 -\n",
      "192.168.219.105 - - [07/Jun/2024 15:07:38] \"GET /images/sidebar.png HTTP/1.1\" 304 -\n",
      "192.168.219.105 - - [07/Jun/2024 15:07:38] \"GET /images/logo.png HTTP/1.1\" 304 -\n",
      "192.168.219.105 - - [07/Jun/2024 15:07:38] \"GET /images/recipe.png HTTP/1.1\" 304 -\n",
      "192.168.219.105 - - [07/Jun/2024 15:07:38] \"GET /images/fridge.png HTTP/1.1\" 304 -\n",
      "192.168.219.105 - - [07/Jun/2024 15:07:38] \"GET /images/community.png HTTP/1.1\" 304 -\n",
      "192.168.219.105 - - [07/Jun/2024 15:07:38] \"GET /myinfo HTTP/1.1\" 200 -\n",
      "192.168.219.105 - - [07/Jun/2024 15:07:38] \"GET /vite.svg HTTP/1.1\" 304 -\n"
     ]
    },
    {
     "name": "stdout",
     "output_type": "stream",
     "text": [
      "Current OS: Windows\n",
      "Current OS: Windows\n",
      "s\n"
     ]
    },
    {
     "name": "stderr",
     "output_type": "stream",
     "text": [
      "192.168.219.105 - - [07/Jun/2024 15:07:39] \"GET /get HTTP/1.1\" 200 -\n",
      "192.168.219.105 - - [07/Jun/2024 15:07:39] \"GET /vite.svg HTTP/1.1\" 304 -\n"
     ]
    },
    {
     "name": "stdout",
     "output_type": "stream",
     "text": [
      "s\n"
     ]
    },
    {
     "name": "stderr",
     "output_type": "stream",
     "text": [
      "192.168.219.105 - - [07/Jun/2024 15:07:46] \"GET /vite.svg HTTP/1.1\" 304 -\n",
      "192.168.219.105 - - [07/Jun/2024 15:07:58] \"GET /get HTTP/1.1\" 200 -\n",
      "192.168.219.105 - - [07/Jun/2024 15:07:58] \"GET /vite.svg HTTP/1.1\" 304 -\n"
     ]
    },
    {
     "name": "stdout",
     "output_type": "stream",
     "text": [
      "s\n"
     ]
    },
    {
     "name": "stderr",
     "output_type": "stream",
     "text": [
      "192.168.219.105 - - [07/Jun/2024 15:08:18] \"GET /get HTTP/1.1\" 200 -\n",
      "192.168.219.105 - - [07/Jun/2024 15:08:18] \"GET /images/sidebar.png HTTP/1.1\" 304 -\n",
      "192.168.219.105 - - [07/Jun/2024 15:08:18] \"GET /vite.svg HTTP/1.1\" 304 -\n"
     ]
    },
    {
     "name": "stdout",
     "output_type": "stream",
     "text": [
      "s\n"
     ]
    },
    {
     "name": "stderr",
     "output_type": "stream",
     "text": [
      "192.168.219.105 - - [07/Jun/2024 15:08:25] \"GET /get HTTP/1.1\" 200 -\n",
      "192.168.219.105 - - [07/Jun/2024 15:08:25] \"GET /vite.svg HTTP/1.1\" 304 -\n"
     ]
    },
    {
     "name": "stdout",
     "output_type": "stream",
     "text": [
      "s\n"
     ]
    },
    {
     "name": "stderr",
     "output_type": "stream",
     "text": [
      "192.168.219.105 - - [07/Jun/2024 15:08:25] \"GET /vite.svg HTTP/1.1\" 304 -\n",
      "192.168.219.105 - - [07/Jun/2024 15:08:39] \"POST /add HTTP/1.1\" 200 -\n"
     ]
    },
    {
     "name": "stdout",
     "output_type": "stream",
     "text": [
      "[{'ingredient': 'sssssssssss', 'storeMethod': False, 'expireDate': '2024-06-13', 'ingredientCount': 3}, {'ingredient': 'ccccccccccccc', 'storeMethod': True, 'expireDate': '2024-06-14', 'ingredientCount': 3}]\n"
     ]
    },
    {
     "name": "stderr",
     "output_type": "stream",
     "text": [
      "192.168.219.105 - - [07/Jun/2024 15:08:40] \"GET /get HTTP/1.1\" 200 -\n",
      "192.168.219.105 - - [07/Jun/2024 15:08:40] \"GET /vite.svg HTTP/1.1\" 304 -\n"
     ]
    },
    {
     "name": "stdout",
     "output_type": "stream",
     "text": [
      "s\n"
     ]
    },
    {
     "name": "stderr",
     "output_type": "stream",
     "text": [
      "192.168.219.105 - - [07/Jun/2024 15:08:47] \"GET /get HTTP/1.1\" 200 -\n",
      "192.168.219.105 - - [07/Jun/2024 15:08:47] \"GET /vite.svg HTTP/1.1\" 304 -\n"
     ]
    },
    {
     "name": "stdout",
     "output_type": "stream",
     "text": [
      "s\n"
     ]
    },
    {
     "name": "stderr",
     "output_type": "stream",
     "text": [
      "192.168.219.105 - - [07/Jun/2024 15:08:52] \"GET /get HTTP/1.1\" 200 -\n",
      "192.168.219.105 - - [07/Jun/2024 15:08:52] \"GET /vite.svg HTTP/1.1\" 304 -\n"
     ]
    },
    {
     "name": "stdout",
     "output_type": "stream",
     "text": [
      "s\n"
     ]
    },
    {
     "name": "stderr",
     "output_type": "stream",
     "text": [
      "192.168.219.105 - - [07/Jun/2024 15:08:54] \"GET /vite.svg HTTP/1.1\" 304 -\n",
      "192.168.219.105 - - [07/Jun/2024 15:08:57] \"GET /get HTTP/1.1\" 200 -\n",
      "192.168.219.105 - - [07/Jun/2024 15:08:57] \"GET /vite.svg HTTP/1.1\" 304 -\n"
     ]
    },
    {
     "name": "stdout",
     "output_type": "stream",
     "text": [
      "s\n"
     ]
    },
    {
     "name": "stderr",
     "output_type": "stream",
     "text": [
      "192.168.219.105 - - [07/Jun/2024 15:08:59] \"GET /vite.svg HTTP/1.1\" 304 -\n"
     ]
    },
    {
     "name": "stdout",
     "output_type": "stream",
     "text": [
      "[{'ingredient': 'sssssssss', 'storeMethod': True, 'expireDate': '2024-06-14', 'ingredientCount': 3}, {'ingredient': 'ss', 'storeMethod': False, 'expireDate': '2024-06-22', 'ingredientCount': 5}]\n"
     ]
    },
    {
     "name": "stderr",
     "output_type": "stream",
     "text": [
      "192.168.219.105 - - [07/Jun/2024 15:09:12] \"POST /add HTTP/1.1\" 200 -\n",
      "192.168.219.105 - - [07/Jun/2024 15:09:13] \"GET /get HTTP/1.1\" 200 -\n",
      "192.168.219.105 - - [07/Jun/2024 15:09:13] \"GET /vite.svg HTTP/1.1\" 304 -\n"
     ]
    },
    {
     "name": "stdout",
     "output_type": "stream",
     "text": [
      "s\n"
     ]
    },
    {
     "name": "stderr",
     "output_type": "stream",
     "text": [
      "192.168.219.105 - - [07/Jun/2024 15:09:18] \"GET /get HTTP/1.1\" 200 -\n",
      "192.168.219.105 - - [07/Jun/2024 15:09:18] \"GET /vite.svg HTTP/1.1\" 304 -\n"
     ]
    },
    {
     "name": "stdout",
     "output_type": "stream",
     "text": [
      "s\n"
     ]
    },
    {
     "name": "stderr",
     "output_type": "stream",
     "text": [
      "192.168.219.105 - - [07/Jun/2024 15:11:50] \"GET /EditIngredients HTTP/1.1\" 404 -\n",
      "192.168.219.105 - - [07/Jun/2024 15:11:53] \"GET / HTTP/1.1\" 304 -\n",
      "192.168.219.105 - - [07/Jun/2024 15:11:53] \"GET /assets/index-Bt0K8fQk.js HTTP/1.1\" 304 -\n",
      "192.168.219.105 - - [07/Jun/2024 15:11:53] \"GET /assets/index-Bd4sYCu-.css HTTP/1.1\" 304 -\n",
      "192.168.219.105 - - [07/Jun/2024 15:11:53] \"GET /images/sidebar.png HTTP/1.1\" 304 -\n",
      "192.168.219.105 - - [07/Jun/2024 15:11:53] \"GET /images/community.png HTTP/1.1\" 304 -\n",
      "192.168.219.105 - - [07/Jun/2024 15:11:53] \"GET /images/fridge.png HTTP/1.1\" 304 -\n",
      "192.168.219.105 - - [07/Jun/2024 15:11:53] \"GET /images/recipe.png HTTP/1.1\" 304 -\n",
      "192.168.219.105 - - [07/Jun/2024 15:11:53] \"GET /myinfo HTTP/1.1\" 200 -\n",
      "192.168.219.105 - - [07/Jun/2024 15:11:53] \"GET /images/logo.png HTTP/1.1\" 304 -\n",
      "192.168.219.105 - - [07/Jun/2024 15:11:53] \"GET /vite.svg HTTP/1.1\" 304 -\n"
     ]
    },
    {
     "name": "stdout",
     "output_type": "stream",
     "text": [
      "Current OS: Windows\n",
      "Current OS: Windows\n",
      "s\n"
     ]
    },
    {
     "name": "stderr",
     "output_type": "stream",
     "text": [
      "192.168.219.105 - - [07/Jun/2024 15:11:54] \"GET /get HTTP/1.1\" 200 -\n",
      "192.168.219.105 - - [07/Jun/2024 15:11:54] \"GET /vite.svg HTTP/1.1\" 304 -\n"
     ]
    },
    {
     "name": "stdout",
     "output_type": "stream",
     "text": [
      "s\n"
     ]
    },
    {
     "name": "stderr",
     "output_type": "stream",
     "text": [
      "192.168.219.105 - - [07/Jun/2024 15:11:56] \"GET /get HTTP/1.1\" 200 -\n",
      "192.168.219.105 - - [07/Jun/2024 15:11:56] \"GET /vite.svg HTTP/1.1\" 304 -\n"
     ]
    },
    {
     "name": "stdout",
     "output_type": "stream",
     "text": [
      "s\n"
     ]
    },
    {
     "name": "stderr",
     "output_type": "stream",
     "text": [
      "[2024-06-07 15:12:12,236] ERROR in app: Exception on /modify [POST]\n",
      "Traceback (most recent call last):\n",
      "  File \"D:\\project\\chatbot-web\\pythonProject2\\.venv\\Lib\\site-packages\\flask\\app.py\", line 1473, in wsgi_app\n",
      "    response = self.full_dispatch_request()\n",
      "               ^^^^^^^^^^^^^^^^^^^^^^^^^^^^\n",
      "  File \"D:\\project\\chatbot-web\\pythonProject2\\.venv\\Lib\\site-packages\\flask\\app.py\", line 882, in full_dispatch_request\n",
      "    rv = self.handle_user_exception(e)\n",
      "         ^^^^^^^^^^^^^^^^^^^^^^^^^^^^^\n",
      "  File \"D:\\project\\chatbot-web\\pythonProject2\\.venv\\Lib\\site-packages\\flask\\app.py\", line 880, in full_dispatch_request\n",
      "    rv = self.dispatch_request()\n",
      "         ^^^^^^^^^^^^^^^^^^^^^^^\n",
      "  File \"D:\\project\\chatbot-web\\pythonProject2\\.venv\\Lib\\site-packages\\flask\\app.py\", line 865, in dispatch_request\n",
      "    return self.ensure_sync(self.view_functions[rule.endpoint])(**view_args)  # type: ignore[no-any-return]\n",
      "           ^^^^^^^^^^^^^^^^^^^^^^^^^^^^^^^^^^^^^^^^^^^^^^^^^^^^^^^^^^^^^^^^^\n",
      "  File \"C:\\Users\\Desktop\\AppData\\Local\\Temp\\ipykernel_26156\\215627614.py\", line 12, in modify\n",
      "    expire_date = datetime.strptime(expire_date_str, '%Y-%m-%d').date()\n",
      "                  ^^^^^^^^^^^^^^^^^^^^^^^^^^^^^^^^^^^^^^^^^^^^^^\n",
      "  File \"C:\\Users\\Desktop\\AppData\\Local\\Programs\\Python\\Python312\\Lib\\_strptime.py\", line 555, in _strptime_datetime\n",
      "    tt, fraction, gmtoff_fraction = _strptime(data_string, format)\n",
      "                                    ^^^^^^^^^^^^^^^^^^^^^^^^^^^^^^\n",
      "  File \"C:\\Users\\Desktop\\AppData\\Local\\Programs\\Python\\Python312\\Lib\\_strptime.py\", line 333, in _strptime\n",
      "    raise ValueError(\"time data %r does not match format %r\" %\n",
      "ValueError: time data 'Fri, 21 Jun 2024 00:00:00 GMT' does not match format '%Y-%m-%d'\n",
      "192.168.219.105 - - [07/Jun/2024 15:12:12] \"POST /modify HTTP/1.1\" 500 -\n"
     ]
    }
   ],
   "source": [
    "if __name__ == '__main__':\n",
    "    with app.app_context():\n",
    "        db.create_all() \n",
    "    app.run(host='0.0.0.0', port=5000)"
   ],
   "metadata": {
    "collapsed": false,
    "is_executing": true,
    "ExecuteTime": {
     "start_time": "2024-06-07T06:07:30.381596Z"
    }
   },
   "id": "48d9749f-98b9-408a-93c4-572bd0ca2b67",
   "execution_count": null
  },
  {
   "cell_type": "code",
   "outputs": [],
   "source": [],
   "metadata": {
    "collapsed": false,
    "is_executing": true
   },
   "id": "c5c71741d267328a",
   "execution_count": null
  },
  {
   "cell_type": "code",
   "outputs": [],
   "source": [],
   "metadata": {
    "collapsed": false,
    "is_executing": true
   },
   "id": "1850d15a0d84a2c1",
   "execution_count": null
  },
  {
   "cell_type": "code",
   "outputs": [],
   "source": [],
   "metadata": {
    "collapsed": false,
    "is_executing": true
   },
   "id": "e3fdb801d94eb887",
   "execution_count": null
  },
  {
   "cell_type": "code",
   "outputs": [],
   "source": [],
   "metadata": {
    "collapsed": false,
    "is_executing": true
   },
   "id": "50ca515a61be88bd",
   "execution_count": null
  },
  {
   "cell_type": "code",
   "outputs": [],
   "source": [],
   "metadata": {
    "collapsed": false,
    "is_executing": true
   },
   "id": "2f1e4104887e117c",
   "execution_count": null
  },
  {
   "cell_type": "code",
   "outputs": [],
   "source": [],
   "metadata": {
    "collapsed": false,
    "is_executing": true
   },
   "id": "afbbb0fcc5c570ad",
   "execution_count": null
  },
  {
   "cell_type": "code",
   "outputs": [],
   "source": [],
   "metadata": {
    "collapsed": false,
    "is_executing": true
   },
   "id": "c3c2d44b760f53b",
   "execution_count": null
  },
  {
   "cell_type": "code",
   "outputs": [],
   "source": [],
   "metadata": {
    "collapsed": false,
    "is_executing": true
   },
   "id": "8d9b38156c70c641",
   "execution_count": null
  },
  {
   "cell_type": "code",
   "outputs": [],
   "source": [],
   "metadata": {
    "collapsed": false,
    "is_executing": true
   },
   "id": "2d85d73a68f0d612",
   "execution_count": null
  },
  {
   "cell_type": "code",
   "outputs": [],
   "source": [],
   "metadata": {
    "collapsed": false,
    "is_executing": true
   },
   "id": "eb084694bb578b9b",
   "execution_count": null
  },
  {
   "cell_type": "code",
   "outputs": [],
   "source": [],
   "metadata": {
    "collapsed": false,
    "is_executing": true
   },
   "id": "9118b51762efe384",
   "execution_count": null
  },
  {
   "cell_type": "code",
   "outputs": [],
   "source": [],
   "metadata": {
    "collapsed": false,
    "is_executing": true
   },
   "id": "638b6264fed7a93c",
   "execution_count": null
  },
  {
   "cell_type": "code",
   "outputs": [],
   "source": [],
   "metadata": {
    "collapsed": false,
    "is_executing": true
   },
   "id": "fb3ad1df95dd1fe3",
   "execution_count": null
  },
  {
   "cell_type": "code",
   "outputs": [],
   "source": [],
   "metadata": {
    "collapsed": false,
    "is_executing": true
   },
   "id": "415d264b31193ed",
   "execution_count": null
  },
  {
   "cell_type": "code",
   "outputs": [],
   "source": [],
   "metadata": {
    "collapsed": false,
    "is_executing": true
   },
   "id": "942979dce8817d46",
   "execution_count": null
  }
 ],
 "metadata": {
  "kernelspec": {
   "display_name": "Python 3 (ipykernel)",
   "language": "python",
   "name": "python3"
  },
  "language_info": {
   "codemirror_mode": {
    "name": "ipython",
    "version": 3
   },
   "file_extension": ".py",
   "mimetype": "text/x-python",
   "name": "python",
   "nbconvert_exporter": "python",
   "pygments_lexer": "ipython3",
   "version": "3.11.7"
  }
 },
 "nbformat": 4,
 "nbformat_minor": 5
}
