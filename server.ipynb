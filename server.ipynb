{
 "cells": [
  {
   "cell_type": "code",
   "execution_count": 136,
   "id": "62800509-ebfc-4977-a86c-91306065782c",
   "metadata": {
    "ExecuteTime": {
     "end_time": "2024-06-07T10:51:31.793478Z",
     "start_time": "2024-06-07T10:51:31.786412Z"
    }
   },
   "outputs": [],
   "source": [
    "class UnstructuredDb():\n",
    "    _instance = None\n",
    "\n",
    " \n",
    "    def __new__(cls, *args, **kwargs):\n",
    "        if not cls._instance:\n",
    "            cls._instance = super(UnstructuredDb, cls).__new__(cls, *args, **kwargs)\n",
    "        return cls._instance\n",
    "    \n",
    "    def __init__(self,path:str=\"embedded-database/\",table:str='ingredients'):\n",
    "        import chromadb\n",
    "        import os\n",
    "        from chromadb.db.base import UniqueConstraintError\n",
    "        from chromadb.utils import embedding_functions\n",
    "        \n",
    "        if not os.path.exists(path):\n",
    "            os.makedirs(path, exist_ok=True)\n",
    "            print(f\"Directory '{path}' created successfully.\")\n",
    "\n",
    "         \n",
    "        \n",
    "        client = chromadb.PersistentClient(path=path)\n",
    "        em = embedding_functions.SentenceTransformerEmbeddingFunction(model_name=\"Huffon/sentence-klue-roberta-base\")\n",
    "        try:\n",
    "            self.collection = client.create_collection(name=table, embedding_function=em)\n",
    "        except UniqueConstraintError: \n",
    "            self.collection = client.get_collection(name=table, embedding_function=em)\n",
    "            \n",
    "    def get(self,text:str,n:int=2)->[str]:\n",
    "        \n",
    "\n",
    "        results=self.collection.query(query_texts=[text],n_results=n)\n",
    "        urls=[id for id in results['ids'][0]]\n",
    "\n",
    "        return urls\n",
    "        \n",
    "  \n",
    "\n",
    "    def add(self,key:str=None,ingredient:str=None,metadata:dict=None):\n",
    "        \n",
    "        self.collection.add(\n",
    "        documents=[ingredient],\n",
    "        metadatas=[metadata],\n",
    "        ids=[key]\n",
    "        )\n"
   ]
  },
  {
   "cell_type": "code",
   "execution_count": 137,
   "id": "bf05574e-deb9-469f-bcad-841587eb528f",
   "metadata": {
    "ExecuteTime": {
     "end_time": "2024-06-07T10:51:32.416880Z",
     "start_time": "2024-06-07T10:51:32.412487Z"
    }
   },
   "outputs": [],
   "source": [
    "import pickle\n",
    "\n",
    "class RecipeDict:\n",
    "    _instance = None\n",
    "    _is_loaded = False\n",
    "\n",
    "    def __new__(cls):\n",
    "        if cls._instance is None:\n",
    "            cls._instance = super(RecipeDict, cls).__new__(cls)\n",
    "        return cls._instance\n",
    "\n",
    "    def load_data(self, file_path):\n",
    "        if not self._is_loaded:\n",
    "            with open(file_path, 'rb') as file:\n",
    "                self.data = pickle.load(file)\n",
    "            self._is_loaded = True\n",
    "        return self.data"
   ]
  },
  {
   "cell_type": "code",
   "execution_count": 138,
   "id": "8a64135a-975d-4f2f-aa46-ff37e1720c6d",
   "metadata": {
    "ExecuteTime": {
     "end_time": "2024-06-07T10:51:33.663226Z",
     "start_time": "2024-06-07T10:51:32.482892Z"
    }
   },
   "outputs": [],
   "source": [
    "unstructured_db=UnstructuredDb()\n",
    "singleton_loader = RecipeDict()\n",
    "recipe_dict = singleton_loader.load_data('recipes.pkl')"
   ]
  },
  {
   "cell_type": "code",
   "execution_count": 139,
   "id": "4038d2bf3c830d46",
   "metadata": {
    "collapsed": false,
    "ExecuteTime": {
     "end_time": "2024-06-07T10:51:33.671824Z",
     "start_time": "2024-06-07T10:51:33.665224Z"
    }
   },
   "outputs": [],
   "source": [
    "from flask import Flask, jsonify,send_from_directory,request,session,make_response\n",
    "from flask_sqlalchemy import SQLAlchemy\n",
    "from datetime import datetime\n",
    "from sqlalchemy import func\n",
    "import os\n",
    "from dotenv import load_dotenv"
   ]
  },
  {
   "cell_type": "code",
   "execution_count": 140,
   "id": "220b3b51c75bd430",
   "metadata": {
    "collapsed": false,
    "ExecuteTime": {
     "end_time": "2024-06-07T10:51:33.689346Z",
     "start_time": "2024-06-07T10:51:33.672822Z"
    }
   },
   "outputs": [],
   "source": [
    "\n",
    "load_dotenv()\n",
    "dist_path=os.getenv(\"DIST_PATH\")"
   ]
  },
  {
   "cell_type": "code",
   "execution_count": 141,
   "id": "d302ab230779f39e",
   "metadata": {
    "collapsed": false,
    "ExecuteTime": {
     "end_time": "2024-06-07T10:51:33.708860Z",
     "start_time": "2024-06-07T10:51:33.696857Z"
    }
   },
   "outputs": [],
   "source": [
    "app = Flask(__name__, static_folder=dist_path, static_url_path='')\n",
    "app.config[\"SECRET_KEY\"] = \"apple\"\n",
    "app.config['SQLALCHEMY_DATABASE_URI'] = 'sqlite:///database.db'\n",
    "db = SQLAlchemy(app)"
   ]
  },
  {
   "cell_type": "code",
   "execution_count": 142,
   "id": "5bda1a27-d3a0-40ad-bb5a-fea7606652da",
   "metadata": {
    "ExecuteTime": {
     "end_time": "2024-06-07T10:51:33.751860Z",
     "start_time": "2024-06-07T10:51:33.710863Z"
    }
   },
   "outputs": [],
   "source": [
    "@app.route('/')\n",
    "def index():\n",
    "    return send_from_directory(dist_path, 'index.html')"
   ]
  },
  {
   "cell_type": "code",
   "execution_count": 143,
   "id": "69711c4d-a5cb-4f5f-bb28-ee0b111cc993",
   "metadata": {
    "ExecuteTime": {
     "end_time": "2024-06-07T10:51:33.772594Z",
     "start_time": "2024-06-07T10:51:33.761863Z"
    }
   },
   "outputs": [],
   "source": [
    "@app.route('/assets/<path:path>')\n",
    "def serve_assets(path):\n",
    "    os_name = os.name\n",
    "    if os_name == 'nt': # 서버가 윈도우 일경우\n",
    "        print(\"Current OS: Windows\")\n",
    "        if path.endswith('.js'):\n",
    "            response = make_response(send_from_directory(os.path.join(dist_path, 'assets'), path))\n",
    "            response.headers.set('Content-Type', 'application/javascript')\n",
    "        elif path.endswith('.css'):\n",
    "            response = make_response(send_from_directory(os.path.join(dist_path, 'assets'), path))\n",
    "            response.headers.set('Content-Type', 'text/css')\n",
    "        else:\n",
    "            response = send_from_directory(os.path.join(dist_path, 'assets'), path)\n",
    "        return response\n",
    "    \n",
    "    return send_from_directory(os.path.join(dist_path, 'assets'), path)"
   ]
  },
  {
   "cell_type": "code",
   "execution_count": 144,
   "id": "a491f753-2f42-46da-8249-8cf2542b0b12",
   "metadata": {
    "ExecuteTime": {
     "end_time": "2024-06-07T10:51:33.790705Z",
     "start_time": "2024-06-07T10:51:33.776584Z"
    }
   },
   "outputs": [],
   "source": [
    "class User(db.Model):\n",
    "    id = db.Column(db.String, primary_key=True)\n",
    "    nickname = db.Column(db.String, primary_key=True, unique=True, nullable=False)\n",
    "    password = db.Column(db.String, nullable=False)"
   ]
  },
  {
   "cell_type": "code",
   "execution_count": 145,
   "id": "07637228-6199-4ddf-bea2-83eb8c54c257",
   "metadata": {
    "ExecuteTime": {
     "end_time": "2024-06-07T10:51:33.801693Z",
     "start_time": "2024-06-07T10:51:33.793694Z"
    }
   },
   "outputs": [],
   "source": [
    "class Refrigerator(db.Model):\n",
    "    id = db.Column(db.Integer, primary_key=True, autoincrement=True, nullable=False)\n",
    "    nickname = db.Column(db.String, nullable=False)\n",
    "    ingredient = db.Column(db.String, nullable=False)\n",
    "    store_method = db.Column(db.Boolean)\n",
    "    count = db.Column(db.Integer)\n",
    "    expire_date = db.Column(db.Date)\n"
   ]
  },
  {
   "cell_type": "code",
   "execution_count": 146,
   "id": "7aac26b0127c78e4",
   "metadata": {
    "collapsed": false,
    "ExecuteTime": {
     "end_time": "2024-06-07T10:51:33.814873Z",
     "start_time": "2024-06-07T10:51:33.802695Z"
    }
   },
   "outputs": [],
   "source": [
    "class Post(db.Model):\n",
    "    id = db.Column(db.Integer, primary_key=True)\n",
    "    title = db.Column(db.String(100), nullable=False)\n",
    "    contents = db.Column(db.String(50), nullable=False)\n",
    "    nickname = db.Column(db.String(50), nullable=False)\n",
    "    image = db.Column(db.String(200), nullable=True)\n",
    "    created_at = db.Column(db.DateTime, default=datetime.utcnow)\n",
    "\n",
    "    def to_dict(self):\n",
    "        return {\n",
    "            'id': self.id,\n",
    "            'title': self.title,\n",
    "            'contents': self.contents,\n",
    "            'nickname': self.nickname,\n",
    "            'image': self.image,\n",
    "            'created_at': self.created_at.isoformat()\n",
    "        }\n"
   ]
  },
  {
   "cell_type": "code",
   "execution_count": 147,
   "id": "9425129b-f008-4389-923c-4d47d1860ecb",
   "metadata": {
    "ExecuteTime": {
     "end_time": "2024-06-07T10:51:33.822901Z",
     "start_time": "2024-06-07T10:51:33.816873Z"
    }
   },
   "outputs": [],
   "source": [
    "@app.route('/signup', methods=['POST'])\n",
    "def signup():\n",
    "    data = request.get_json()\n",
    "    id = data['id']\n",
    "    nickname = data['nickname']\n",
    "    password = data['password']\n",
    "    \n",
    "    # ID와 닉네임의 사용 가능 여부를 확인합니다.\n",
    "    available_id = User.query.filter_by(id=id).first()\n",
    "    available_nickname = User.query.filter_by(nickname=nickname).first()\n",
    "    \n",
    "    if available_id:\n",
    "        return \"이미 존재하는 아이디 입니다!\",400\n",
    "    elif available_nickname:\n",
    "        return \"이미 존재하는 이름 입니다!\",400\n",
    "    \n",
    "    # 새로운 사용자 생성 및 데이터베이스에 추가\n",
    "    new_user = User(id=id, nickname=nickname, password=password)\n",
    "    db.session.add(new_user)\n",
    "    db.session.commit()\n",
    "    session['user']=id\n",
    "    session.modified = True\n",
    "    return \"회원가입 성공!\",200\n",
    "\n",
    "\n"
   ]
  },
  {
   "cell_type": "code",
   "execution_count": 148,
   "id": "0149e8ca-425c-4592-82ee-4f4c324e7d3c",
   "metadata": {
    "ExecuteTime": {
     "end_time": "2024-06-07T10:51:33.831119Z",
     "start_time": "2024-06-07T10:51:33.824912Z"
    }
   },
   "outputs": [],
   "source": [
    "@app.route('/login',methods=['POST'] )  \n",
    "def login():\n",
    "    data = request.get_json()\n",
    "    id = data['id']\n",
    "    password = data['password']\n",
    "    user_info = User.query.filter_by(id=id).filter_by(password=password).first()\n",
    "    if user_info:\n",
    "        session['user']=user_info.id\n",
    "        print(session['user'])\n",
    "        print(session.items())\n",
    "        return \"로그인 성공!\",200\n",
    "    return \"회원정보가 일치하지 않습니다!\",200"
   ]
  },
  {
   "cell_type": "code",
   "execution_count": 149,
   "id": "c83af63f-4a26-4fa2-a55a-0f066988294a",
   "metadata": {
    "ExecuteTime": {
     "end_time": "2024-06-07T10:51:33.841668Z",
     "start_time": "2024-06-07T10:51:33.832127Z"
    }
   },
   "outputs": [],
   "source": [
    "@app.route('/myinfo',methods=['GET'] )  \n",
    "def myinfo():\n",
    "    print(session['user'])\n",
    "    if 'user' in session:\n",
    "        \n",
    "        return session['user'], 200\n",
    "    return \"로그인 해주세요!\",200"
   ]
  },
  {
   "cell_type": "code",
   "execution_count": 150,
   "id": "f3226c5e-fbde-48f2-8df7-6fcdfa28cc1d",
   "metadata": {
    "ExecuteTime": {
     "end_time": "2024-06-07T10:51:33.850392Z",
     "start_time": "2024-06-07T10:51:33.842677Z"
    }
   },
   "outputs": [],
   "source": [
    "@app.route('/logout',methods=['GET'] )  \n",
    "def logout():\n",
    "    if 'user' in session:\n",
    "        session.pop('user', None)\n",
    "        session.modified = True\n",
    "        return \"로그아웃 되었습니다!\",200\n",
    "    return \"로그인 해주세요!\",400"
   ]
  },
  {
   "cell_type": "code",
   "execution_count": 151,
   "id": "f990957d-81c8-446e-8f6d-0a34efeebf3c",
   "metadata": {
    "ExecuteTime": {
     "end_time": "2024-06-07T10:51:33.859347Z",
     "start_time": "2024-06-07T10:51:33.851398Z"
    }
   },
   "outputs": [],
   "source": [
    "@app.route('/add',methods=['POST'] )  \n",
    "def add():\n",
    "    datas = request.get_json()\n",
    "    print(datas)\n",
    "    if 'user' in session:\n",
    "\n",
    "        \n",
    "        for data in datas:\n",
    "            ingredient = data['ingredient']\n",
    "            count =data['ingredientCount']\n",
    "            store_method = data['storeMethod']\n",
    "            expire_date = data['expireDate']\n",
    "            expire_date = datetime.strptime(expire_date, \"%Y-%m-%d\").date()\n",
    "            new_ingredient = Refrigerator(\n",
    "                ingredient=ingredient,\n",
    "                count=count,\n",
    "                store_method=store_method,\n",
    "                expire_date=expire_date,\n",
    "                nickname=session['user']\n",
    "            )\n",
    "            db.session.add(new_ingredient)\n",
    "        db.session.commit()\n",
    "\n",
    "    \n",
    "        \n",
    "        return \"성공!\",200\n",
    "    return \"로그인해주세요!\",400"
   ]
  },
  {
   "cell_type": "code",
   "execution_count": 152,
   "id": "de344a2d-efbb-4a91-9834-ba4f752b855e",
   "metadata": {
    "ExecuteTime": {
     "end_time": "2024-06-07T10:51:33.867310Z",
     "start_time": "2024-06-07T10:51:33.860354Z"
    }
   },
   "outputs": [],
   "source": [
    "@app.route('/get', methods=['GET'])\n",
    "def get():\n",
    "    print(session['user'])\n",
    "    if 'user' in session:\n",
    "        ingredients = Refrigerator.query.filter_by(nickname=session['user']).all()\n",
    "        \n",
    "        # 데이터를 JSON 형식으로 변환하기 위해 각 항목을 사전(dict) 형태로 변환\n",
    "        ingredients_list = []\n",
    "        for ingredient in ingredients:\n",
    "            ingredient_dict = {\n",
    "                'ingredient':ingredient.ingredient,\n",
    "                'count':ingredient.count,\n",
    "                'storeMethod':ingredient.store_method,\n",
    "                'expireDate':ingredient.expire_date,\n",
    "                'id':ingredient.id\n",
    "            }\n",
    "            ingredients_list.append(ingredient_dict)\n",
    "            \n",
    "        objs = db.session.query(Refrigerator).filter_by(id=session['user']).all()\n",
    "        ingredients = ', '.join([obj.ingredient for obj in objs])\n",
    "        print(ingredients)\n",
    "        # JSON 형식으로 클라이언트에게 응답\n",
    "        return jsonify(ingredients_list), 200\n",
    "    \n",
    "    # 로그인하지 않은 경우 메시지 반환\n",
    "    return jsonify({'message': '로그인해주세요!'}), 200"
   ]
  },
  {
   "cell_type": "code",
   "execution_count": 153,
   "id": "8e0d84cc-c3d6-44ba-b3f7-fa685b1c7398",
   "metadata": {
    "ExecuteTime": {
     "end_time": "2024-06-07T10:51:33.875330Z",
     "start_time": "2024-06-07T10:51:33.868318Z"
    }
   },
   "outputs": [],
   "source": [
    "@app.route('/delete', methods=['GET'])\n",
    "def delete():\n",
    "    if 'user' in session:\n",
    "        id = request.args.get('id')  # GET 요청의 경우 request.args 사용\n",
    "        obj = db.session.query(Refrigerator).filter_by(id=id).first()\n",
    "        if obj:\n",
    "            db.session.delete(obj)\n",
    "            db.session.commit()\n",
    "            return \"success\"\n",
    "        else:\n",
    "            return \"failed\"\n",
    "\n",
    "    return \"failed\"\n"
   ]
  },
  {
   "cell_type": "code",
   "execution_count": 154,
   "id": "3a663ec1a819b932",
   "metadata": {
    "collapsed": false,
    "ExecuteTime": {
     "end_time": "2024-06-07T10:51:33.883811Z",
     "start_time": "2024-06-07T10:51:33.875330Z"
    }
   },
   "outputs": [],
   "source": [
    "@app.route('/modify', methods=['POST'])\n",
    "def modify():\n",
    "    if 'user' in session:\n",
    "        datas = request.get_json()\n",
    "        objs = db.session.query(Refrigerator).filter_by(nickname=session['user']).all()\n",
    "        for obj in objs:\n",
    "            db.session.delete(obj)\n",
    "        for data in datas:\n",
    "            expire_date_str = data['expire_date']\n",
    "            if 'GMT' in expire_date_str:\n",
    "                expire_date = datetime.strptime(expire_date_str, '%a, %d %b %Y %H:%M:%S GMT').date()\n",
    "            else:\n",
    "                expire_date = datetime.strptime(expire_date_str, '%Y-%m-%d').date()\n",
    "            \n",
    "            new_data = Refrigerator(\n",
    "                nickname=session['user'],\n",
    "                ingredient=data['ingredient'],\n",
    "                store_method=data['store_method'],\n",
    "                count=data['count'],\n",
    "                expire_date=expire_date\n",
    "            )\n",
    "            db.session.add(new_data)\n",
    "        db.session.commit()\n",
    "        \n",
    "        return \"success\"\n",
    "    return \"failed\"\n"
   ]
  },
  {
   "cell_type": "code",
   "execution_count": 155,
   "id": "9ab862c68c16f3c4",
   "metadata": {
    "collapsed": false,
    "ExecuteTime": {
     "end_time": "2024-06-07T10:51:33.892060Z",
     "start_time": "2024-06-07T10:51:33.884820Z"
    }
   },
   "outputs": [],
   "source": [
    "@app.route('/search/<int:n>', methods=['GET'])  \n",
    "\n",
    "def search(n):\n",
    "    if 'user' in session:\n",
    "        objs = db.session.query(Refrigerator).filter_by(nickname=session['user']).all()\n",
    "        ingredients = ', '.join([obj.ingredient for obj in objs])\n",
    "        print(ingredients)\n",
    "        recipes=unstructured_db.get(text=ingredients,n=n)\n",
    "        results=[]\n",
    "        for recipe_id in recipes:\n",
    "            results.append(recipe_dict[recipe_id])\n",
    "        \n",
    "        return jsonify(results), 200\n",
    "    return \"failed\",200"
   ]
  },
  {
   "cell_type": "code",
   "execution_count": 156,
   "id": "2ed094b5bfa0bfe2",
   "metadata": {
    "collapsed": false,
    "ExecuteTime": {
     "end_time": "2024-06-07T10:51:33.900626Z",
     "start_time": "2024-06-07T10:51:33.893068Z"
    }
   },
   "outputs": [],
   "source": [
    "@app.route('/post/<int:post_id>', methods=['GET'])\n",
    "def get_post(post_id):\n",
    "    post = Post.query.get(post_id)\n",
    "    is_author=False\n",
    "    if 'user' in session and session['user'] == post.nickname:\n",
    "        is_author=True\n",
    "        \n",
    "    return jsonify({\n",
    "        'id': post.id,\n",
    "        'title': post.title,\n",
    "        'contents': post.contents,\n",
    "        'image': post.image,\n",
    "        'created_at': post.created_at,\n",
    "        'isAuthor': is_author\n",
    "    })"
   ]
  },
  {
   "cell_type": "code",
   "execution_count": 157,
   "id": "b3ad02514123555d",
   "metadata": {
    "collapsed": false,
    "ExecuteTime": {
     "end_time": "2024-06-07T10:51:33.908339Z",
     "start_time": "2024-06-07T10:51:33.901634Z"
    }
   },
   "outputs": [],
   "source": [
    "@app.route('/post/modify/<int:post_id>', methods=['POST'])\n",
    "def update_post(post_id):\n",
    "    data = request.get_json()\n",
    "    post = Post.query.get(post_id)\n",
    "    if not post:\n",
    "        return jsonify({'error': 'Post not found'}), 404\n",
    "\n",
    "\n",
    "    post.title = data['title']\n",
    "    post.contents = data['contents']\n",
    "    \n",
    "    db.session.commit()\n",
    "    return jsonify({'message': 'Post updated successfully'})"
   ]
  },
  {
   "cell_type": "code",
   "execution_count": 158,
   "id": "fe7ff6b31475a15b",
   "metadata": {
    "collapsed": false,
    "ExecuteTime": {
     "end_time": "2024-06-07T10:51:33.915348Z",
     "start_time": "2024-06-07T10:51:33.909320Z"
    }
   },
   "outputs": [],
   "source": [
    "@app.route('/post/add', methods=['POST'])\n",
    "def add_post():\n",
    "    data = request.get_json()\n",
    "    title = data['title']\n",
    "    contents = data['contents']\n",
    "    nickname = session['user']  # 로그인된 사용자의 닉네임\n",
    "    print('sssssssssssssssssssssss')\n",
    "    print(nickname,contents,title)\n",
    "        \n",
    "\n",
    "    new_post = Post(title=title, contents=contents, nickname=nickname)\n",
    "    db.session.add(new_post)\n",
    "    db.session.commit()\n",
    "    return jsonify({'message': 'Post created successfully'})"
   ]
  },
  {
   "cell_type": "code",
   "execution_count": 159,
   "id": "b7934ea39a1b6361",
   "metadata": {
    "collapsed": false,
    "ExecuteTime": {
     "end_time": "2024-06-07T10:51:33.922710Z",
     "start_time": "2024-06-07T10:51:33.916339Z"
    }
   },
   "outputs": [],
   "source": [
    "@app.route('/post/list/<int:pageNumber>', methods=['GET'])\n",
    "def get_post_list(pageNumber):\n",
    "    \n",
    "    items_per_page = 10\n",
    "    offset = (pageNumber - 1) * items_per_page\n",
    "\n",
    "    total_posts = db.session.query(func.count(Post.id)).scalar()\n",
    "    total_pages = (total_posts + items_per_page - 1) // items_per_page\n",
    "\n",
    "    paginated_posts = Post.query.order_by(Post.created_at.desc()).offset(offset).limit(items_per_page).all()\n",
    "    \n",
    "    return jsonify({\n",
    "        'data': [post.to_dict() for post in paginated_posts],\n",
    "        'totalPages': total_pages\n",
    "    })\n",
    "\n"
   ]
  },
  {
   "cell_type": "code",
   "outputs": [],
   "source": [
    "@app.route('/post/delete/<int:post_id>')\n",
    "def delete_post(post_id):\n",
    "    post = Post.query.get(post_id)\n",
    "    if not post:\n",
    "        return jsonify({'error': 'Post not found'}), 404\n",
    "\n",
    "\n",
    "    db.session.delete(post)\n",
    "\n",
    "    db.session.commit()\n",
    "    return jsonify({'message': 'Post updated successfully'})"
   ],
   "metadata": {
    "collapsed": false,
    "ExecuteTime": {
     "end_time": "2024-06-07T10:51:33.930377Z",
     "start_time": "2024-06-07T10:51:33.923717Z"
    }
   },
   "id": "d5b064b9ace8419a",
   "execution_count": 160
  },
  {
   "cell_type": "code",
   "execution_count": 161,
   "id": "48d9749f-98b9-408a-93c4-572bd0ca2b67",
   "metadata": {
    "collapsed": false,
    "scrolled": true,
    "ExecuteTime": {
     "end_time": "2024-06-07T10:56:33.596871Z",
     "start_time": "2024-06-07T10:51:33.931385Z"
    }
   },
   "outputs": [
    {
     "name": "stdout",
     "output_type": "stream",
     "text": [
      " * Serving Flask app '__main__'\n",
      " * Debug mode: off\n"
     ]
    },
    {
     "name": "stderr",
     "output_type": "stream",
     "text": [
      "WARNING: This is a development server. Do not use it in a production deployment. Use a production WSGI server instead.\n",
      " * Running on all addresses (0.0.0.0)\n",
      " * Running on http://127.0.0.1:5000\n",
      " * Running on http://192.168.219.105:5000\n",
      "Press CTRL+C to quit\n",
      "C:\\Users\\Desktop\\AppData\\Local\\Temp\\ipykernel_14384\\3969683745.py:3: LegacyAPIWarning: The Query.get() method is considered legacy as of the 1.x series of SQLAlchemy and becomes a legacy construct in 2.0. The method is now available as Session.get() (deprecated since: 2.0) (Background on SQLAlchemy 2.0 at: https://sqlalche.me/e/b8d9)\n",
      "  post = Post.query.get(post_id)\n",
      "192.168.219.105 - - [07/Jun/2024 19:51:40] \"GET /post/3 HTTP/1.1\" 200 -\n",
      "192.168.219.105 - - [07/Jun/2024 19:51:41] \"GET /myinfo HTTP/1.1\" 200 -\n",
      "192.168.219.105 - - [07/Jun/2024 19:51:41] \"GET /post/3 HTTP/1.1\" 200 -\n"
     ]
    },
    {
     "name": "stdout",
     "output_type": "stream",
     "text": [
      "s\n"
     ]
    },
    {
     "name": "stderr",
     "output_type": "stream",
     "text": [
      "C:\\Users\\Desktop\\AppData\\Local\\Temp\\ipykernel_14384\\1512690668.py:4: LegacyAPIWarning: The Query.get() method is considered legacy as of the 1.x series of SQLAlchemy and becomes a legacy construct in 2.0. The method is now available as Session.get() (deprecated since: 2.0) (Background on SQLAlchemy 2.0 at: https://sqlalche.me/e/b8d9)\n",
      "  post = Post.query.get(post_id)\n",
      "192.168.219.105 - - [07/Jun/2024 19:51:46] \"POST /post/modify/3 HTTP/1.1\" 200 -\n",
      "192.168.219.105 - - [07/Jun/2024 19:52:43] \"GET / HTTP/1.1\" 200 -\n",
      "192.168.219.105 - - [07/Jun/2024 19:52:43] \"GET /assets/index-BDSB2b-I.js HTTP/1.1\" 200 -\n",
      "192.168.219.105 - - [07/Jun/2024 19:52:43] \"GET /assets/index-Ctg9QYGi.css HTTP/1.1\" 200 -\n",
      "192.168.219.105 - - [07/Jun/2024 19:52:43] \"GET /myinfo HTTP/1.1\" 200 -\n",
      "192.168.219.105 - - [07/Jun/2024 19:52:43] \"GET /images/recipe.png HTTP/1.1\" 304 -\n",
      "192.168.219.105 - - [07/Jun/2024 19:52:43] \"GET /images/fridge.png HTTP/1.1\" 304 -\n",
      "192.168.219.105 - - [07/Jun/2024 19:52:43] \"GET /images/community.png HTTP/1.1\" 304 -\n",
      "192.168.219.105 - - [07/Jun/2024 19:52:43] \"GET /images/sidebar.png HTTP/1.1\" 304 -\n",
      "192.168.219.105 - - [07/Jun/2024 19:52:43] \"GET /images/logo.png HTTP/1.1\" 304 -\n"
     ]
    },
    {
     "name": "stdout",
     "output_type": "stream",
     "text": [
      "Current OS: Windows\n",
      "Current OS: Windows\n",
      "s\n"
     ]
    },
    {
     "name": "stderr",
     "output_type": "stream",
     "text": [
      "192.168.219.105 - - [07/Jun/2024 19:52:45] \"GET /post/list/1 HTTP/1.1\" 200 -\n",
      "192.168.219.105 - - [07/Jun/2024 19:52:47] \"GET /myinfo HTTP/1.1\" 200 -\n"
     ]
    },
    {
     "name": "stdout",
     "output_type": "stream",
     "text": [
      "s\n"
     ]
    },
    {
     "name": "stderr",
     "output_type": "stream",
     "text": [
      "192.168.219.105 - - [07/Jun/2024 19:52:49] \"POST /post/add HTTP/1.1\" 200 -\n"
     ]
    },
    {
     "name": "stdout",
     "output_type": "stream",
     "text": [
      "sssssssssssssssssssssss\n",
      "s ㅁㄴ ㄴㅁㅊ\n"
     ]
    },
    {
     "name": "stderr",
     "output_type": "stream",
     "text": [
      "192.168.219.105 - - [07/Jun/2024 19:52:50] \"GET /post/list/1 HTTP/1.1\" 200 -\n",
      "192.168.219.105 - - [07/Jun/2024 19:52:52] \"GET /post/4 HTTP/1.1\" 200 -\n",
      "192.168.219.105 - - [07/Jun/2024 19:52:53] \"GET /post/4 HTTP/1.1\" 200 -\n",
      "192.168.219.105 - - [07/Jun/2024 19:52:53] \"GET /myinfo HTTP/1.1\" 200 -\n"
     ]
    },
    {
     "name": "stdout",
     "output_type": "stream",
     "text": [
      "s\n"
     ]
    },
    {
     "name": "stderr",
     "output_type": "stream",
     "text": [
      "192.168.219.105 - - [07/Jun/2024 19:52:56] \"POST /post/modify/4 HTTP/1.1\" 200 -\n",
      "192.168.219.105 - - [07/Jun/2024 19:52:56] \"GET /post/list/1 HTTP/1.1\" 200 -\n",
      "192.168.219.105 - - [07/Jun/2024 19:53:29] \"GET /post/4 HTTP/1.1\" 200 -\n",
      "192.168.219.105 - - [07/Jun/2024 19:53:48] \"GET /myinfo HTTP/1.1\" 200 -\n",
      "192.168.219.105 - - [07/Jun/2024 19:53:48] \"GET /images/logo.png HTTP/1.1\" 304 -\n",
      "192.168.219.105 - - [07/Jun/2024 19:53:48] \"GET /images/fridge.png HTTP/1.1\" 304 -\n",
      "192.168.219.105 - - [07/Jun/2024 19:53:48] \"GET /images/recipe.png HTTP/1.1\" 304 -\n",
      "192.168.219.105 - - [07/Jun/2024 19:53:48] \"GET /images/community.png HTTP/1.1\" 304 -\n"
     ]
    },
    {
     "name": "stdout",
     "output_type": "stream",
     "text": [
      "s\n"
     ]
    },
    {
     "name": "stderr",
     "output_type": "stream",
     "text": [
      "192.168.219.105 - - [07/Jun/2024 19:53:48] \"GET /get HTTP/1.1\" 200 -\n"
     ]
    },
    {
     "name": "stdout",
     "output_type": "stream",
     "text": [
      "s\n"
     ]
    },
    {
     "name": "stderr",
     "output_type": "stream",
     "text": [
      "192.168.219.105 - - [07/Jun/2024 19:53:57] \"GET /post/list/1 HTTP/1.1\" 200 -\n",
      "192.168.219.105 - - [07/Jun/2024 19:53:59] \"GET /post/1 HTTP/1.1\" 200 -\n",
      "192.168.219.105 - - [07/Jun/2024 19:54:01] \"GET /post/list/1 HTTP/1.1\" 200 -\n",
      "192.168.219.105 - - [07/Jun/2024 19:54:02] \"GET /post/3 HTTP/1.1\" 200 -\n",
      "192.168.219.105 - - [07/Jun/2024 19:54:03] \"GET /post/delete/3 HTTP/1.1\" 200 -\n",
      "192.168.219.105 - - [07/Jun/2024 19:54:04] \"GET /myinfo HTTP/1.1\" 200 -\n",
      "192.168.219.105 - - [07/Jun/2024 19:54:04] \"GET /images/logo.png HTTP/1.1\" 304 -\n",
      "192.168.219.105 - - [07/Jun/2024 19:54:04] \"GET /images/recipe.png HTTP/1.1\" 304 -\n",
      "192.168.219.105 - - [07/Jun/2024 19:54:04] \"GET /images/fridge.png HTTP/1.1\" 304 -\n",
      "192.168.219.105 - - [07/Jun/2024 19:54:04] \"GET /images/community.png HTTP/1.1\" 304 -\n"
     ]
    },
    {
     "name": "stdout",
     "output_type": "stream",
     "text": [
      "s\n"
     ]
    },
    {
     "name": "stderr",
     "output_type": "stream",
     "text": [
      "192.168.219.105 - - [07/Jun/2024 19:54:48] \"GET /post/list/1 HTTP/1.1\" 200 -\n",
      "192.168.219.105 - - [07/Jun/2024 19:54:49] \"GET /myinfo HTTP/1.1\" 200 -\n"
     ]
    },
    {
     "name": "stdout",
     "output_type": "stream",
     "text": [
      "s\n"
     ]
    },
    {
     "name": "stderr",
     "output_type": "stream",
     "text": [
      "192.168.219.105 - - [07/Jun/2024 19:54:51] \"POST /post/add HTTP/1.1\" 200 -\n"
     ]
    },
    {
     "name": "stdout",
     "output_type": "stream",
     "text": [
      "sssssssssssssssssssssss\n",
      "s ㄴ ㄴ\n"
     ]
    },
    {
     "name": "stderr",
     "output_type": "stream",
     "text": [
      "192.168.219.105 - - [07/Jun/2024 19:54:52] \"GET /post/list/1 HTTP/1.1\" 200 -\n",
      "192.168.219.105 - - [07/Jun/2024 19:54:53] \"GET /post/5 HTTP/1.1\" 200 -\n",
      "192.168.219.105 - - [07/Jun/2024 19:54:54] \"GET /post/delete/5 HTTP/1.1\" 200 -\n",
      "192.168.219.105 - - [07/Jun/2024 19:54:54] \"GET /myinfo HTTP/1.1\" 200 -\n",
      "192.168.219.105 - - [07/Jun/2024 19:54:54] \"GET /images/logo.png HTTP/1.1\" 304 -\n",
      "192.168.219.105 - - [07/Jun/2024 19:54:54] \"GET /images/fridge.png HTTP/1.1\" 304 -\n",
      "192.168.219.105 - - [07/Jun/2024 19:54:54] \"GET /images/recipe.png HTTP/1.1\" 304 -\n",
      "192.168.219.105 - - [07/Jun/2024 19:54:54] \"GET /images/community.png HTTP/1.1\" 304 -\n"
     ]
    },
    {
     "name": "stdout",
     "output_type": "stream",
     "text": [
      "s\n"
     ]
    },
    {
     "name": "stderr",
     "output_type": "stream",
     "text": [
      "192.168.219.105 - - [07/Jun/2024 19:55:22] \"GET / HTTP/1.1\" 200 -\n",
      "192.168.219.105 - - [07/Jun/2024 19:55:22] \"GET /assets/index-CMAKplKs.js HTTP/1.1\" 200 -\n",
      "192.168.219.105 - - [07/Jun/2024 19:55:22] \"GET /assets/index-Ctg9QYGi.css HTTP/1.1\" 200 -\n",
      "192.168.219.105 - - [07/Jun/2024 19:55:23] \"GET /images/logo.png HTTP/1.1\" 304 -\n",
      "192.168.219.105 - - [07/Jun/2024 19:55:23] \"GET /images/sidebar.png HTTP/1.1\" 304 -\n",
      "192.168.219.105 - - [07/Jun/2024 19:55:23] \""
     ]
    },
    {
     "name": "stdout",
     "output_type": "stream",
     "text": [
      "Current OS: Windows\n",
      "Current OS: Windows\n"
     ]
    },
    {
     "name": "stderr",
     "output_type": "stream",
     "text": [
      "GET /images/fridge.png HTTP/1.1\" 304 -\n",
      "192.168.219.105 - - [07/Jun/2024 19:55:23] \"GET /images/recipe.png HTTP/1.1\" 304 -\n",
      "192.168.219.105 - - [07/Jun/2024 19:55:23] \"GET /images/community.png HTTP/1.1\" 304 -\n",
      "192.168.219.105 - - [07/Jun/2024 19:55:23] \"GET /myinfo HTTP/1.1\" 200 -\n",
      "192.168.219.105 - - [07/Jun/2024 19:55:23] \"GET /vite.svg HTTP/1.1\" 304 -\n"
     ]
    },
    {
     "name": "stdout",
     "output_type": "stream",
     "text": [
      "s\n"
     ]
    },
    {
     "name": "stderr",
     "output_type": "stream",
     "text": [
      "192.168.219.105 - - [07/Jun/2024 19:55:23] \"GET /post/list/1 HTTP/1.1\" 200 -\n",
      "192.168.219.105 - - [07/Jun/2024 19:55:25] \"GET /post/4 HTTP/1.1\" 200 -\n",
      "192.168.219.105 - - [07/Jun/2024 19:55:26] \"GET /post/delete/4 HTTP/1.1\" 200 -\n",
      "192.168.219.105 - - [07/Jun/2024 19:55:26] \"GET /post/list/1 HTTP/1.1\" 200 -\n",
      "192.168.219.105 - - [07/Jun/2024 19:55:37] \"GET /myinfo HTTP/1.1\" 200 -\n",
      "192.168.219.105 - - [07/Jun/2024 19:55:37] \"GET /images/logo.png HTTP/1.1\" 304 -\n",
      "192.168.219.105 - - [07/Jun/2024 19:55:37] \"GET /images/fridge.png HTTP/1.1\" 304 -\n",
      "192.168.219.105 - - [07/Jun/2024 19:55:37] \"GET /images/recipe.png HTTP/1.1\" 304 -\n",
      "192.168.219.105 - - [07/Jun/2024 19:55:37] \"GET /images/community.png HTTP/1.1\" 304 -\n"
     ]
    },
    {
     "name": "stdout",
     "output_type": "stream",
     "text": [
      "s\n"
     ]
    }
   ],
   "source": [
    "if __name__ == '__main__':\n",
    "    with app.app_context():\n",
    "        db.create_all() \n",
    "    app.run(host='0.0.0.0', port=5000)"
   ]
  },
  {
   "cell_type": "code",
   "execution_count": 162,
   "id": "c5c71741d267328a",
   "metadata": {
    "collapsed": false,
    "ExecuteTime": {
     "end_time": "2024-06-07T10:56:33.627177Z",
     "start_time": "2024-06-07T10:56:33.597864Z"
    }
   },
   "outputs": [
    {
     "name": "stderr",
     "output_type": "stream",
     "text": [
      "스위치가 틀립니다 - \"myproject\".\n"
     ]
    }
   ],
   "source": [
    "ls/myproject/server/dist/assets/images"
   ]
  },
  {
   "cell_type": "code",
   "execution_count": 162,
   "id": "1850d15a0d84a2c1",
   "metadata": {
    "collapsed": false,
    "ExecuteTime": {
     "end_time": "2024-06-07T10:56:33.630902Z",
     "start_time": "2024-06-07T10:56:33.628186Z"
    }
   },
   "outputs": [],
   "source": []
  },
  {
   "cell_type": "code",
   "execution_count": 162,
   "id": "e3fdb801d94eb887",
   "metadata": {
    "collapsed": false,
    "ExecuteTime": {
     "end_time": "2024-06-07T10:56:33.635131Z",
     "start_time": "2024-06-07T10:56:33.632915Z"
    }
   },
   "outputs": [],
   "source": []
  },
  {
   "cell_type": "code",
   "execution_count": 162,
   "id": "50ca515a61be88bd",
   "metadata": {
    "collapsed": false,
    "ExecuteTime": {
     "end_time": "2024-06-07T10:56:33.640156Z",
     "start_time": "2024-06-07T10:56:33.638138Z"
    }
   },
   "outputs": [],
   "source": []
  },
  {
   "cell_type": "code",
   "execution_count": 162,
   "id": "2f1e4104887e117c",
   "metadata": {
    "collapsed": false,
    "ExecuteTime": {
     "end_time": "2024-06-07T10:56:33.643416Z",
     "start_time": "2024-06-07T10:56:33.641165Z"
    }
   },
   "outputs": [],
   "source": []
  },
  {
   "cell_type": "code",
   "execution_count": 162,
   "id": "afbbb0fcc5c570ad",
   "metadata": {
    "collapsed": false,
    "ExecuteTime": {
     "end_time": "2024-06-07T10:56:33.647274Z",
     "start_time": "2024-06-07T10:56:33.644426Z"
    }
   },
   "outputs": [],
   "source": []
  },
  {
   "cell_type": "code",
   "execution_count": 162,
   "id": "c3c2d44b760f53b",
   "metadata": {
    "collapsed": false,
    "ExecuteTime": {
     "end_time": "2024-06-07T10:56:33.650922Z",
     "start_time": "2024-06-07T10:56:33.648283Z"
    }
   },
   "outputs": [],
   "source": []
  },
  {
   "cell_type": "code",
   "execution_count": 162,
   "id": "8d9b38156c70c641",
   "metadata": {
    "collapsed": false,
    "ExecuteTime": {
     "end_time": "2024-06-07T10:56:33.653849Z",
     "start_time": "2024-06-07T10:56:33.651932Z"
    }
   },
   "outputs": [],
   "source": []
  },
  {
   "cell_type": "code",
   "execution_count": 162,
   "id": "2d85d73a68f0d612",
   "metadata": {
    "collapsed": false,
    "ExecuteTime": {
     "end_time": "2024-06-07T10:56:33.657213Z",
     "start_time": "2024-06-07T10:56:33.654858Z"
    }
   },
   "outputs": [],
   "source": []
  },
  {
   "cell_type": "code",
   "execution_count": 162,
   "id": "eb084694bb578b9b",
   "metadata": {
    "collapsed": false,
    "ExecuteTime": {
     "end_time": "2024-06-07T10:56:33.660521Z",
     "start_time": "2024-06-07T10:56:33.658222Z"
    }
   },
   "outputs": [],
   "source": []
  },
  {
   "cell_type": "code",
   "execution_count": 162,
   "id": "9118b51762efe384",
   "metadata": {
    "collapsed": false,
    "ExecuteTime": {
     "end_time": "2024-06-07T10:56:33.663262Z",
     "start_time": "2024-06-07T10:56:33.661530Z"
    }
   },
   "outputs": [],
   "source": []
  },
  {
   "cell_type": "code",
   "execution_count": 162,
   "id": "638b6264fed7a93c",
   "metadata": {
    "collapsed": false,
    "ExecuteTime": {
     "end_time": "2024-06-07T10:56:33.667350Z",
     "start_time": "2024-06-07T10:56:33.664271Z"
    }
   },
   "outputs": [],
   "source": []
  },
  {
   "cell_type": "code",
   "execution_count": 162,
   "id": "fb3ad1df95dd1fe3",
   "metadata": {
    "collapsed": false,
    "ExecuteTime": {
     "end_time": "2024-06-07T10:56:33.670359Z",
     "start_time": "2024-06-07T10:56:33.668358Z"
    }
   },
   "outputs": [],
   "source": []
  },
  {
   "cell_type": "code",
   "execution_count": 162,
   "id": "415d264b31193ed",
   "metadata": {
    "collapsed": false,
    "ExecuteTime": {
     "end_time": "2024-06-07T10:56:33.673840Z",
     "start_time": "2024-06-07T10:56:33.671368Z"
    }
   },
   "outputs": [],
   "source": []
  },
  {
   "cell_type": "code",
   "execution_count": 162,
   "id": "942979dce8817d46",
   "metadata": {
    "collapsed": false,
    "ExecuteTime": {
     "end_time": "2024-06-07T10:56:33.677339Z",
     "start_time": "2024-06-07T10:56:33.674850Z"
    }
   },
   "outputs": [],
   "source": []
  }
 ],
 "metadata": {
  "kernelspec": {
   "display_name": "Python 3 (ipykernel)",
   "language": "python",
   "name": "python3"
  },
  "language_info": {
   "codemirror_mode": {
    "name": "ipython",
    "version": 3
   },
   "file_extension": ".py",
   "mimetype": "text/x-python",
   "name": "python",
   "nbconvert_exporter": "python",
   "pygments_lexer": "ipython3",
   "version": "3.11.7"
  }
 },
 "nbformat": 4,
 "nbformat_minor": 5
}
